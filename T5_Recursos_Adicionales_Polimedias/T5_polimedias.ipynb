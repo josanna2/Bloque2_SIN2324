{
 "cells": [
  {
   "cell_type": "markdown",
   "metadata": {},
   "source": [
    "# Recursos adicionales Polimedias"
   ]
  },
  {
   "cell_type": "markdown",
   "metadata": {},
   "source": [
    "* [T1.1 Razonamiento probabilístico: representación e inferencia](https://media.upv.es/player/?id=bc1e6920-6006-11e8-aab9-a1a4e108f2ab)\n",
    "* [T1.2 Variables continuas y regla de Bayes](https://media.upv.es/player/?id=0c4678b0-6008-11e8-aab9-a1a4e108f2ab)\n",
    "* [T2.1 Funciones discriminantes](https://media.upv.es/player/?id=9f63d010-1ddf-11e6-a643-a78c4a2a6fab)\n",
    "* [T2.2 Algoritmo Perceptrón](https://media.upv.es/player/?id=cd4236c0-1ddf-11e6-a643-a78c4a2a6fab)\n",
    "* [T2.3 Estimación del error](https://media.upv.es/player/?id=a7912ba0-2d63-11e6-ac60-79f7b815142e)\n",
    "* [T3 Árboles de clasificación](https://media.upv.es/player/?id=ee657b40-2105-11e6-83b1-bf2ceef791b3)\n",
    "* [T4 Clustering: algoritmo K-medias](https://media.upv.es/player/?id=62351dcd-f169-2049-bdf6-4e58c5ec2c1f)"
   ]
  }
 ],
 "metadata": {
  "kernelspec": {
   "display_name": "Python 3",
   "language": "python",
   "name": "python3"
  },
  "language_info": {
   "codemirror_mode": {
    "name": "ipython",
    "version": 3
   },
   "file_extension": ".py",
   "mimetype": "text/x-python",
   "name": "python",
   "nbconvert_exporter": "python",
   "pygments_lexer": "ipython3",
   "version": "3.10.7"
  },
  "vscode": {
   "interpreter": {
    "hash": "e7370f93d1d0cde622a1f8e1c04877d8463912d04d973331ad4851f04de6915a"
   }
  }
 },
 "nbformat": 4,
 "nbformat_minor": 2
}
