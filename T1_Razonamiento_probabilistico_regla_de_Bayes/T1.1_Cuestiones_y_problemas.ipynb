{
 "cells": [
  {
   "cell_type": "markdown",
   "metadata": {},
   "source": [
    "# T1.1 Raonament probabilístic: representació i inferència\n"
   ]
  },
  {
   "cell_type": "markdown",
   "metadata": {},
   "source": [
    "**2023_01_26_Cuestión 1:** $\\;$ Dada la siguiente tabla de probabilidades conjuntas de tres variables de interés:\n",
    "$$\\begin{array}{|c|cccccccc|}\\hline\n",
    "A & 0 & 0 & 0 & 0 & 1 & 1 & 1 & 1\\\\\n",
    "B & 0 & 0 & 1 & 1 & 0 & 0 & 1 & 1\\\\\n",
    "C & 0 & 1 & 0 & 1 & 0 & 1 & 0 & 1\\\\\\hline\n",
    "P(A,B,C) & 0.093 & 0.100 & 0.133 & 0.163 & 0.157 & 0.150 & 0.117 & 0.087\\\\\n",
    "\\hline\\end{array}$$\n",
    "Cúal és el valor de $P(A=1, B=1 \\mid C=1)$?\n",
    "1. $P(A=1, B=1 \\mid C=1) \\leq 0.25$\n",
    "2. $0.25 < P(A=1, B=1 \\mid C=1) \\leq 0.50$\n",
    "3. $0.50 < P(A=1, B=1 \\mid C=1) \\leq 0.75$\n",
    "4. $0.75 < P(A=1, B=1 \\mid C=1)$"
   ]
  },
  {
   "cell_type": "markdown",
   "metadata": {},
   "source": [
    "**Solución:** $\\;$ la 1; $\\;P(A=1, B=1 \\mid C=1) = 0.174$"
   ]
  },
  {
   "cell_type": "code",
   "execution_count": 1,
   "metadata": {},
   "outputs": [
    {
     "name": "stdout",
     "output_type": "stream",
     "text": [
      "0.174\n"
     ]
    }
   ],
   "source": [
    "PA1B1C1 = 0.087; PC1 = 0.1 + 0.163 + 0.15 + 0.087; PA1B1_C1 = PA1B1C1 / PC1; print(PA1B1_C1)"
   ]
  },
  {
   "cell_type": "markdown",
   "metadata": {},
   "source": [
    "**2023_01_17_Cuestión 1:** Supón que tenemos dos cajas con 40 naranjas en la primera y 80 en la segunda. La primera caja contiene 9 naranjas Navelina y 31 Caracara. La segunda caja contiene tres veces más naranjas Navelina que Caracara. Ahora supón que se escoge una caja al azar, y después una naranja al azar de la caja escogida. Si la naranja escogida es Navelina, la probabilidad $P$ de que proceda de la primera caja es:\n",
    "1. $0/4\\leq P<1/4$.\n",
    "2. $1/4\\leq P<2/4$.\n",
    "3. $2/4\\leq P<3/4$.\n",
    "4. $3/4\\leq P\\leq 4/4$."
   ]
  },
  {
   "cell_type": "markdown",
   "metadata": {},
   "source": [
    "**Solución:** $\\;P=0.13$"
   ]
  },
  {
   "cell_type": "markdown",
   "metadata": {},
   "source": [
    "**2022_01_27_Cuestión 4:** $\\;$ Dada la siguiente tabla de frecuencias conjuntas de tres variables de interés:\n",
    "$$\\begin{array}{|c|cccccccc|}\\hline\n",
    "A & 0 & 0 & 0 & 0 & 1 & 1 & 1 & 1\\\\\n",
    "B & 0 & 0 & 1 & 1 & 0 & 0 & 1 & 1\\\\\n",
    "C & 0 & 1 & 0 & 1 & 0 & 1 & 0 & 1\\\\\\hline\n",
    "N(A,B,C) & 124 & 28 & 227 & 175 & 126 & 222 & 23 & 75\\\\\n",
    "\\hline\\end{array}$$\n",
    "Cúal és el valor de $P(A=1 \\mid B=1,C=0)$?\n",
    "1. $0.023$\n",
    "2. $0.250$\n",
    "3. $0.092$\n",
    "4. $0.446$"
   ]
  },
  {
   "cell_type": "markdown",
   "metadata": {},
   "source": [
    "**Solución:** $\\;$ la 3."
   ]
  }
 ],
 "metadata": {
  "kernelspec": {
   "display_name": "Python 3",
   "language": "python",
   "name": "python3"
  },
  "language_info": {
   "codemirror_mode": {
    "name": "ipython",
    "version": 3
   },
   "file_extension": ".py",
   "mimetype": "text/x-python",
   "name": "python",
   "nbconvert_exporter": "python",
   "pygments_lexer": "ipython3",
   "version": "3.10.7"
  }
 },
 "nbformat": 4,
 "nbformat_minor": 2
}
