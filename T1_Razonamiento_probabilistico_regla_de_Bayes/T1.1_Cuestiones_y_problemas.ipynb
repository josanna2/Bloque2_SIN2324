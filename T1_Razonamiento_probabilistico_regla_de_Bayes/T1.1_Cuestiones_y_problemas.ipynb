{
 "cells": [
  {
   "cell_type": "markdown",
   "metadata": {},
   "source": [
    "# T1.1 Raonament probabilístic: representació i inferència\n"
   ]
  },
  {
   "cell_type": "markdown",
   "metadata": {},
   "source": [
    "**2023_01_17_Qüestió 1:** Suposeu que tenim dues caixes amb 40 taronges en la primera i 80 en la segona. La primera caixa conté 9 taronges Navelina i 31 Caracara. La segona caixa conté tres vegades més taronges Navelina que Caracara. Ara suposeu que s'escull una caixa a l'atzar, i després una taronja a l'atzar de la caixa escollida. Si la taronja escollida és Navelina, la probabilitat $P$ de que procedisca de la primera caixa és:\n",
    "1. $0/4\\leq P<1/4$.\n",
    "2. $1/4\\leq P<2/4$.\n",
    "3. $2/4\\leq P<3/4$.\n",
    "4. $3/4\\leq P\\leq 4/4$."
   ]
  },
  {
   "cell_type": "markdown",
   "metadata": {},
   "source": [
    "**Solució:** $\\;P=0.13$"
   ]
  }
 ],
 "metadata": {
  "language_info": {
   "name": "python"
  }
 },
 "nbformat": 4,
 "nbformat_minor": 2
}
